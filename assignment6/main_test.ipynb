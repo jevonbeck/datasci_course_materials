{
   "cells":[
      {
         "metadata":{

         },
         "cell_type":"markdown",
         "source":"***Midday Crime Spikes in Cities***\n\n**Project Objectives**\n\nThis analysis identifies when major crimes across Seattle and San Francisco were committed during the Summer 2014 period and outlines the nature of observed midday crime spikes. More details about the project objectives and data set can be found at https://github.com/uwescience/datasci_course_materials/blob/master/assignment6/crimeanalytics.md\n\n\n**General Approach**\n\nThe data from each city was first normalised to facilitate easier comparison. The 5 most prominent crimes for each city was then determined and used as the basis of comparison across the cities. The data was then grouped by city, crime type and time occurence to perform analyses.\n\n\n**Implementation**\n\nData Normalisation predominantly involved converting Seattle data to the San Francisco format since the San Francisco format was better broken down by incident time and had fewer crime categories. Category mapping was also performed against the top 10 categories in each city, with ambiguous prominent categories not being mapped on a per-city basis. The top 5 categories were then extracted and grouped by city, crime type and time occurence.\n"
      },
      {
         "metadata":{
            "trusted":true
         },
         "cell_type":"code",
         "source":"library(tidyverse)\nlibrary(ggplot2)\n\nseattle_download <- getURL(\"https://raw.githubusercontent.com/uwescience/datasci_course_materials/master/assignment6/seattle_incidents_summer_2014.csv\")\nsanfrancisco_download <- getURL(\"https://raw.githubusercontent.com/uwescience/datasci_course_materials/master/assignment6/sanfrancisco_incidents_summer_2014.csv\")\nseattle <- read.csv(text = seattle_download)\nsanfrancisco <- read.csv(text = sanfrancisco_download)\n\n#seattle <- read.csv('../input/seattle_incidents_summer_2014.csv')\n#sanfrancisco <- read.csv('../input/sanfrancisco_incidents_summer_2014.csv')\n\nweekday_levels <- c('Sunday', 'Monday', 'Tuesday', 'Wednesday', 'Thursday', 'Friday', 'Saturday')\nnormalise_seattle <- function(seattle) {\n  date_time <- strptime(as.character(seattle$Occurred.Date.or.Date.Range.Start), format = '%m/%d/%Y %I:%M:%S %p')\n\n  cat <- as.character(seattle$Summarized.Offense.Description)\n  # to include as part of modified function\n  cat <- ifelse(cat %in% c('BIKE THEFT','CAR PROWL','MAIL THEFT','SHOPLIFTING'), 'LARCENY/THEFT', cat)\n  cat <- ifelse(cat %in% 'NARCOTICS', 'DRUG/NARCOTIC', cat)\n  cat <- ifelse(cat %in% 'WARRANT ARREST', 'WARRANTS', cat)\n\n  data.frame(\n    City = as.character(rep('Seattle', nrow(seattle))),\n    DayOfWeek = factor(weekdays(date_time), levels=weekday_levels),\n    Hour = as.numeric(date_time$hour),\n    Category = cat\n  )\n}\n\nnormalise_sanfrancisco <- function (sanfrancisco) {\n  cat <- as.character(sanfrancisco$Category)\n  cat <- ifelse(cat %in% 'VANDALISM', 'OTHER PROPERTY', cat)\n\n  data.frame(\n    City = as.character(rep('San Francisco', nrow(sanfrancisco))),\n    Hour = as.numeric(substring(as.character(sanfrancisco$Time),1,2)),\n    DayOfWeek = factor(sanfrancisco$DayOfWeek, levels=weekday_levels),\n    Category = cat\n  )\n}\n\nsummarise_data <- function(data) {\n  as.data.frame(data %>% group_by(Category) %>% summarise(Incidents = n()))\n}\n\nget_large_categories <- function(summarised_data) {\n  top_cats <- summarised_data %>% top_n(5, Incidents)\n  unique(as.character(top_cats$Category))\n}\n\nextract_large_categories <- function(summarised_seattle, summarised_sanfrancisco) {\n  cats_seattle <- get_large_categories(summarised_seattle)\n  cats_sanfrancisco <- get_large_categories(summarised_sanfrancisco)\n\n  unique(c(cats_seattle, cats_sanfrancisco))\n}\n\nnormal_seattle <- normalise_seattle(seattle)\nnormal_sanfrancisco <- normalise_sanfrancisco(sanfrancisco)\n\nsummarised_seattle <- summarise_data(normal_seattle)\nsummarised_sanfrancisco <- summarise_data(normal_sanfrancisco)\n\nfilter_cats <- extract_large_categories(summarised_seattle,summarised_sanfrancisco)\nresult_data <- rbind(normal_seattle, normal_sanfrancisco)\nresult_data <- result_data[result_data$Category %in% filter_cats,]\nresult_data$Category = as.factor(as.character(result_data$Category))\nresult_data$Hour = as.factor(result_data$Hour)\n\ngrouped_bar_data <- as.data.frame(result_data %>% group_by(City, DayOfWeek, Hour, Category) %>% summarise(Incidents = n()))",
         "execution_count":null,
         "outputs":[

         ]
      },
      {
         "metadata":{

         },
         "cell_type":"markdown",
         "source":"**Analysis**\n\nWith a criminal analysis, it's important to understand which crimes are the most prominent and in this case, how do they vary by city. Plotting the bar chart below gives some insight. "
      },
      {
         "metadata":{
            "trusted":true
         },
         "cell_type":"code",
         "source":"ggplot(grouped_bar_data, aes(fill=City, y=Incidents, x=Category)) + geom_bar(position=\"dodge\", stat=\"identity\")",
         "execution_count":null,
         "outputs":[

         ]
      },
      {
         "metadata":{

         },
         "cell_type":"markdown",
         "source":"The first observation to make is that while Seattle and San Francisco have similar problems, such as Assault and Larceny, there are some types of crime that are more prominent in one city than the other. For example, Property Damage is more dominant in Seattle than in San Francisco. It is difficult, however, to make converse statements about San Francisco since \"Non-Criminal\" and \"Other Offences\" categories are too ambiguous to single out as prominent activities.\n\nHaving identified the types of crimes taking place, understanding when they occur can be helpful in prevention. As there are many facets of time, it may be important to look at activity on specific days and/or times of day to gain insights. The Incident by the Time of day graphs for each day of the week is plotted for each city for comparison.\n"
      },
      {
         "metadata":{
            "trusted":true
         },
         "cell_type":"code",
         "source":"ggplot(grouped_bar_data, aes(fill=City,y=Incidents, x=Hour)) + facet_grid(DayOfWeek ~ City) + geom_bar(stat='identity', show.legend = FALSE)",
         "execution_count":null,
         "outputs":[

         ]
      },
      {
         "metadata":{

         },
         "cell_type":"markdown",
         "source":"Looking at the activity across the days of the week, it is observed that the hourly pattern is very similar and does not provide much insight, save increases in activity between 10pm-12am (hours 22 and 23) on Fridays and Saturdays. The intuitive pattern of reduced activity just after the early hours of the morning, is met with the slightly alarming rise and maintainence of activity throughout the rest of the day.\n\nA more curious insight, however, is a noticeable spike in activity around 12pm and 1pm (hour 12) that goes down slightly afterwards. Zooming in near this specific period (2 hours before and after) and splitting the data by crime type can give us more insight into why this spike occurs across both cities."
      },
      {
         "metadata":{
            "trusted":true
         },
         "cell_type":"code",
         "source":"time_filtered <- grouped_bar_data[as.integer(as.character(grouped_bar_data$Hour)) %in% 10:14,]\nggplot(time_filtered, aes(fill=City,y=Incidents, x=Hour)) + facet_grid(City ~ Category) + geom_bar(position=\"dodge\",stat='identity', show.legend = FALSE)",
         "execution_count":null,
         "outputs":[

         ]
      },
      {
         "metadata":{

         },
         "cell_type":"markdown",
         "source":"Looking at each crime type individually, there is no distinctive pattern in one crime type that suggests a certain type of crime is taking place more often than the others at this time. This suggests that the spike is just characteristic of criminal activity and nothing more. "
      }
   ],
   "metadata":{
      "language_info":{
         "name":"python",
         "version":"3.6.6",
         "mimetype":"text/x-python",
         "codemirror_mode":{
            "name":"ipython",
            "version":3
         },
         "pygments_lexer":"ipython3",
         "nbconvert_exporter":"python",
         "file_extension":".py"
      },
      "kernelspec":{
         "display_name":"Python 3",
         "language":"python",
         "name":"python3"
      }
   },
   "nbformat":4,
   "nbformat_minor":4
}